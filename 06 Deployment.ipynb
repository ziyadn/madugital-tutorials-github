{
 "cells": [
  {
   "cell_type": "code",
   "execution_count": 1,
   "metadata": {},
   "outputs": [],
   "source": [
    "import pandas as pd\n",
    "import os\n",
    "import pickle"
   ]
  },
  {
   "cell_type": "code",
   "execution_count": 2,
   "metadata": {},
   "outputs": [],
   "source": [
    "# Load Model\n",
    "filename = os.path.join('model', 'best_rf_model.sav')\n",
    "file = open(filename,'rb')\n",
    "best_rf_model = pickle.load(file)\n",
    "\n",
    "# Load Preprocessor\n",
    "filename = os.path.join('model', 'preprocessor.sav')\n",
    "file = open(filename,'rb')\n",
    "preprocessor = pickle.load(file)"
   ]
  },
  {
   "cell_type": "markdown",
   "metadata": {},
   "source": [
    "# Input Data"
   ]
  },
  {
   "cell_type": "code",
   "execution_count": 30,
   "metadata": {},
   "outputs": [],
   "source": [
    "# Data yang diberikan\n",
    "data = {'Prospect ID': '2a369e36-ca95-4ca9-9e4f-9d27175aa320',\n",
    " 'Lead Number': 7760608,\n",
    " 'Lead Origin': 'Landing Page Submission',\n",
    " 'Lead Source': 'blog',\n",
    " 'Do Not Email': 0,\n",
    " 'Do Not Call': 0,\n",
    " 'Converted': 1,\n",
    " 'TotalVisits': 8.0,\n",
    " 'Total Time Spent on Website': 100,\n",
    " 'Page Views Per Visit': 8.0,\n",
    " 'Country': 'Indonesia',\n",
    " 'Specialization': 'Travel and Tourism',\n",
    " 'How did you hear about Madugital': 'Not Specified',\n",
    " 'What is your current occupation': 'Unemployed',\n",
    " 'What matters most to you in choosing a product': 'Healthy for life',\n",
    " 'Search': 0,\n",
    " 'Magazine': 0,\n",
    " 'Newspaper Article': 0,\n",
    " 'Madugital Telegram': 0,\n",
    " 'Newspaper': 0,\n",
    " 'Digital Advertisement': 0,\n",
    " 'Through Recommendations': 0,\n",
    " 'Receive More Updates About Our Products': 0,\n",
    " 'Tags': 'Will revert after reading the email',\n",
    " 'Lead Quality': 'Might be',\n",
    " 'Update me on Supply Chain Content': 0,\n",
    " 'Get updates on DM Content': 0,\n",
    " 'Lead Profile': 'Not Specified',\n",
    " 'City': 'Other Metro Cities',\n",
    " 'Asymmetrique Activity Index': '02.Medium',\n",
    " 'Asymmetrique Profile Index': '02.Medium',\n",
    " 'Asymmetrique Activity Score': 15.0,\n",
    " 'Asymmetrique Profile Score': 14.0,\n",
    " 'I agree to pay the amount through cheque': 0,\n",
    " 'A free copy of Mastering The Interview': 1,\n",
    " 'Last Notable Activity': 'Email Opened',\n",
    " 'Last Activity Category': 'Bad'}"
   ]
  },
  {
   "cell_type": "markdown",
   "metadata": {},
   "source": [
    "## Prediksi"
   ]
  },
  {
   "cell_type": "code",
   "execution_count": 35,
   "metadata": {},
   "outputs": [
    {
     "name": "stdout",
     "output_type": "stream",
     "text": [
      "Customer dengan ID 2a369e36-ca95-4ca9-9e4f-9d27175aa320, masuk dalam kategori HOT leads, dengan score : 84.95\n"
     ]
    }
   ],
   "source": [
    "# Mengubah data menjadi DataFrame\n",
    "data_df = pd.DataFrame([data])\n",
    "\n",
    "# Melakukan transformasi dengan preprocessor\n",
    "data_preprocessed = preprocessor.transform(data_df)\n",
    "\n",
    "# Melakukan prediksi probabilitas dengan model, dan membuat score dari hasil prediksi probabilitas\n",
    "probability_result = best_rf_model.predict_proba(data_preprocessed)[0][1]\n",
    "score = round(probability_result * 100, 2)\n",
    "\n",
    "# membuat kategori leads untuk mempermudah identifikasi oleh salesman\n",
    "if probability_result<0.5:\n",
    "    category = 'COLD'\n",
    "elif probability_result>=0.75:\n",
    "    category = 'HOT'\n",
    "else:\n",
    "    category = 'WARM'\n",
    "\n",
    "# menampilkan ID customer untuk follow-up oleh salesman\n",
    "customer_id = data['Prospect ID']\n",
    "\n",
    "# Menampilkan hasil prediksi\n",
    "print(f\"Customer dengan ID {customer_id}, masuk dalam kategori {category} leads, dengan score : {score}\")\n"
   ]
  }
 ],
 "metadata": {
  "kernelspec": {
   "display_name": "base",
   "language": "python",
   "name": "python3"
  },
  "language_info": {
   "codemirror_mode": {
    "name": "ipython",
    "version": 3
   },
   "file_extension": ".py",
   "mimetype": "text/x-python",
   "name": "python",
   "nbconvert_exporter": "python",
   "pygments_lexer": "ipython3",
   "version": "3.9.18"
  }
 },
 "nbformat": 4,
 "nbformat_minor": 2
}
