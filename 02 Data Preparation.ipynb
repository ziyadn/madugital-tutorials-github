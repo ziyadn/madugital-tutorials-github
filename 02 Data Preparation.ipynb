{
 "cells": [
  {
   "cell_type": "code",
   "execution_count": 10,
   "metadata": {},
   "outputs": [],
   "source": [
    "import pandas as pd\n",
    "import numpy as np\n",
    "from sklearn.impute import SimpleImputer\n",
    "from sklearn.preprocessing import OneHotEncoder, StandardScaler\n",
    "from sklearn.feature_selection import SelectKBest, f_classif"
   ]
  },
  {
   "cell_type": "code",
   "execution_count": 12,
   "metadata": {},
   "outputs": [
    {
     "name": "stdout",
     "output_type": "stream",
     "text": [
      "<class 'pandas.core.frame.DataFrame'>\n",
      "RangeIndex: 9240 entries, 0 to 9239\n",
      "Data columns (total 37 columns):\n",
      " #   Column                                          Non-Null Count  Dtype  \n",
      "---  ------                                          --------------  -----  \n",
      " 0   Prospect ID                                     9240 non-null   object \n",
      " 1   Lead Number                                     9240 non-null   int64  \n",
      " 2   Lead Origin                                     9240 non-null   object \n",
      " 3   Lead Source                                     9204 non-null   object \n",
      " 4   Do Not Email                                    9240 non-null   object \n",
      " 5   Do Not Call                                     9240 non-null   object \n",
      " 6   Converted                                       9240 non-null   int64  \n",
      " 7   TotalVisits                                     9103 non-null   float64\n",
      " 8   Total Time Spent on Website                     9240 non-null   int64  \n",
      " 9   Page Views Per Visit                            9103 non-null   float64\n",
      " 10  Last Activity                                   9137 non-null   object \n",
      " 11  Country                                         6779 non-null   object \n",
      " 12  Specialization                                  7802 non-null   object \n",
      " 13  How did you hear about Madugital                7033 non-null   object \n",
      " 14  What is your current occupation                 6550 non-null   object \n",
      " 15  What matters most to you in choosing a product  6531 non-null   object \n",
      " 16  Search                                          9240 non-null   object \n",
      " 17  Magazine                                        9240 non-null   object \n",
      " 18  Newspaper Article                               9240 non-null   object \n",
      " 19  Madugital Telegram                              9240 non-null   object \n",
      " 20  Newspaper                                       9240 non-null   object \n",
      " 21  Digital Advertisement                           9240 non-null   object \n",
      " 22  Through Recommendations                         9240 non-null   object \n",
      " 23  Receive More Updates About Our Products         9240 non-null   object \n",
      " 24  Tags                                            5887 non-null   object \n",
      " 25  Lead Quality                                    4473 non-null   object \n",
      " 26  Update me on Supply Chain Content               9240 non-null   object \n",
      " 27  Get updates on DM Content                       9240 non-null   object \n",
      " 28  Lead Profile                                    6531 non-null   object \n",
      " 29  City                                            7820 non-null   object \n",
      " 30  Asymmetrique Activity Index                     5022 non-null   object \n",
      " 31  Asymmetrique Profile Index                      5022 non-null   object \n",
      " 32  Asymmetrique Activity Score                     5022 non-null   float64\n",
      " 33  Asymmetrique Profile Score                      5022 non-null   float64\n",
      " 34  I agree to pay the amount through cheque        9240 non-null   object \n",
      " 35  A free copy of Mastering The Interview          9240 non-null   object \n",
      " 36  Last Notable Activity                           9240 non-null   object \n",
      "dtypes: float64(4), int64(3), object(30)\n",
      "memory usage: 2.6+ MB\n"
     ]
    }
   ],
   "source": [
    "# Load data\n",
    "df = pd.read_csv('data/lead_scoring.csv')\n",
    "df.info()"
   ]
  },
  {
   "cell_type": "markdown",
   "metadata": {},
   "source": [
    "## Handling Each Columns Values"
   ]
  },
  {
   "cell_type": "code",
   "execution_count": 13,
   "metadata": {},
   "outputs": [],
   "source": [
    "## Untuk Kolom Prospect ID & Lead Number tidak ada masalah unique values dan non-null count sama yaitu `9240`"
   ]
  },
  {
   "cell_type": "code",
   "execution_count": 17,
   "metadata": {},
   "outputs": [
    {
     "name": "stdout",
     "output_type": "stream",
     "text": [
      "\n",
      "Before\n"
     ]
    },
    {
     "data": {
      "text/plain": [
       "Landing Page Submission    4886\n",
       "API                        3580\n",
       "Add Form                    719\n",
       "Lead Import                  55\n",
       "Name: Lead Origin, dtype: int64"
      ]
     },
     "metadata": {},
     "output_type": "display_data"
    },
    {
     "name": "stdout",
     "output_type": "stream",
     "text": [
      "\n",
      "After\n"
     ]
    },
    {
     "data": {
      "text/plain": [
       "Landing Page Submission    4886\n",
       "API                        3580\n",
       "Add Form                    719\n",
       "Lead Import                  55\n",
       "Name: Lead Origin, dtype: int64"
      ]
     },
     "metadata": {},
     "output_type": "display_data"
    }
   ],
   "source": [
    "## untuk kolom Lead Origin memiliki value yang hanya 1 yaitu Quick Add Form, kita gabungkan dengan Lead Ads Form\n",
    "print(\"\\nBefore\")\n",
    "display(df['Lead Origin'].value_counts())\n",
    "\n",
    "df['Lead Origin'] = np.where(df['Lead Origin'].str.contains(\"Add Form\"), \"Add Form\", df['Lead Origin'])\n",
    "print(\"\\nAfter\")\n",
    "display(df['Lead Origin'].value_counts())"
   ]
  },
  {
   "cell_type": "code",
   "execution_count": 21,
   "metadata": {},
   "outputs": [
    {
     "name": "stdout",
     "output_type": "stream",
     "text": [
      "\n",
      "Before\n"
     ]
    },
    {
     "data": {
      "text/plain": [
       "Google               0.311604\n",
       "Direct Traffic       0.276293\n",
       "Olark Chat           0.190678\n",
       "Organic Search       0.125380\n",
       "Reference            0.058018\n",
       "Welingak Website     0.015428\n",
       "Referral Sites       0.013581\n",
       "Facebook             0.005976\n",
       "bing                 0.000652\n",
       "google               0.000543\n",
       "Click2call           0.000435\n",
       "Press_Release        0.000217\n",
       "Social Media         0.000217\n",
       "Live Chat            0.000217\n",
       "youtubechannel       0.000109\n",
       "testone              0.000109\n",
       "Pay per Click Ads    0.000109\n",
       "welearnblog_Home     0.000109\n",
       "WeLearn              0.000109\n",
       "blog                 0.000109\n",
       "NC_EDM               0.000109\n",
       "Name: Lead Source, dtype: float64"
      ]
     },
     "metadata": {},
     "output_type": "display_data"
    },
    {
     "name": "stdout",
     "output_type": "stream",
     "text": [
      "\n",
      "After\n"
     ]
    },
    {
     "data": {
      "text/plain": [
       "Google              0.311604\n",
       "Direct Traffic      0.276293\n",
       "Olark Chat          0.190678\n",
       "Organic Search      0.125380\n",
       "Reference           0.058018\n",
       "Welingak Website    0.015428\n",
       "Referral Sites      0.013581\n",
       "Others              0.009018\n",
       "Name: Lead Source, dtype: float64"
      ]
     },
     "metadata": {},
     "output_type": "display_data"
    }
   ],
   "source": [
    "## untuk kolom Lead Source, mari kita ganti Source yang kurang dari 1% populasi menjadi `Others`\n",
    "# Tampilkan jumlah nilai untuk kolom 'Lead Source', dinormalisasi untuk menampilkan persentase\n",
    "lead_source_percentage = df['Lead Source'].value_counts(normalize=True)\n",
    "print(\"\\nBefore\")\n",
    "display(lead_source_percentage)\n",
    "\n",
    "# Lanjutkan dengan kode untuk mengganti Lead Source yang menyumbang kurang dari 1% populasi dengan 'Others'\n",
    "threshold = 0.01  # 1% threshold\n",
    "sources_to_replace = lead_source_percentage[lead_source_percentage < threshold].index\n",
    "\n",
    "# Ganti Lead Source yang menyumbang kurang dari 1% populasi dengan 'Others'\n",
    "df['Lead Source'] = df['Lead Source'].apply(lambda x: 'Others' if x in sources_to_replace else x)\n",
    "print(\"\\nAfter\")\n",
    "display(df['Lead Source'].value_counts(normalize=True))"
   ]
  },
  {
   "cell_type": "code",
   "execution_count": 22,
   "metadata": {},
   "outputs": [
    {
     "data": {
      "text/plain": [
       "No     8506\n",
       "Yes     734\n",
       "Name: Do Not Email, dtype: int64"
      ]
     },
     "execution_count": 22,
     "metadata": {},
     "output_type": "execute_result"
    }
   ],
   "source": [
    "df['Do Not Email'].value_counts() ## tidak ada yang perlu dihandling"
   ]
  },
  {
   "cell_type": "code",
   "execution_count": 23,
   "metadata": {},
   "outputs": [
    {
     "data": {
      "text/plain": [
       "No     9238\n",
       "Yes       2\n",
       "Name: Do Not Call, dtype: int64"
      ]
     },
     "execution_count": 23,
     "metadata": {},
     "output_type": "execute_result"
    }
   ],
   "source": [
    "df['Do Not Call'].value_counts() ## tidak ada yang perlu dihandling"
   ]
  },
  {
   "cell_type": "code",
   "execution_count": 24,
   "metadata": {},
   "outputs": [
    {
     "data": {
      "text/plain": [
       "0    5679\n",
       "1    3561\n",
       "Name: Converted, dtype: int64"
      ]
     },
     "execution_count": 24,
     "metadata": {},
     "output_type": "execute_result"
    }
   ],
   "source": [
    "df['Converted'].value_counts() ## tidak ada yang perlu dihandling"
   ]
  },
  {
   "cell_type": "code",
   "execution_count": 26,
   "metadata": {},
   "outputs": [
    {
     "data": {
      "text/plain": [
       "count    9103.000000\n",
       "mean        3.445238\n",
       "std         4.854853\n",
       "min         0.000000\n",
       "25%         1.000000\n",
       "50%         3.000000\n",
       "75%         5.000000\n",
       "max       251.000000\n",
       "Name: TotalVisits, dtype: float64"
      ]
     },
     "metadata": {},
     "output_type": "display_data"
    },
    {
     "data": {
      "text/plain": [
       "count    9240.000000\n",
       "mean        3.394156\n",
       "std         4.836682\n",
       "min         0.000000\n",
       "25%         0.000000\n",
       "50%         3.000000\n",
       "75%         5.000000\n",
       "max       251.000000\n",
       "Name: TotalVisits, dtype: float64"
      ]
     },
     "metadata": {},
     "output_type": "display_data"
    }
   ],
   "source": [
    "display(df['TotalVisits'].describe()) ## ada null values, mari kita isi dengan `0`\n",
    "df['TotalVisits'].fillna(0, inplace=True)\n",
    "display(df['TotalVisits'].describe()) "
   ]
  },
  {
   "cell_type": "code",
   "execution_count": null,
   "metadata": {},
   "outputs": [],
   "source": [
    "display(df['Page Views Per Visit'].describe()) ## ada null values, mari kita isi dengan `0`\n",
    "df['Page Views Per Visit'].fillna(0, inplace=True)\n",
    "display(df['Page Views Per Visit'].describe()) "
   ]
  },
  {
   "cell_type": "code",
   "execution_count": 32,
   "metadata": {},
   "outputs": [
    {
     "data": {
      "text/plain": [
       "Email Opened                    3437\n",
       "SMS Sent                        2745\n",
       "Olark Chat Conversation          973\n",
       "Page Visited on Website          640\n",
       "Converted to Lead                428\n",
       "Email Bounced                    326\n",
       "Email Link Clicked               267\n",
       "Form Submitted on Website        116\n",
       "Unreachable                       93\n",
       "Unsubscribed                      61\n",
       "Had a Phone Conversation          30\n",
       "Approached upfront                 9\n",
       "View in browser link Clicked       6\n",
       "Email Received                     2\n",
       "Email Marked Spam                  2\n",
       "Visited Booth in Tradeshow         1\n",
       "Resubscribed to emails             1\n",
       "Name: Last Activity, dtype: int64"
      ]
     },
     "metadata": {},
     "output_type": "display_data"
    },
    {
     "data": {
      "text/plain": [
       "Good       4500\n",
       "Neutral    4155\n",
       "Bad         585\n",
       "Name: Last Activity Category, dtype: int64"
      ]
     },
     "metadata": {},
     "output_type": "display_data"
    }
   ],
   "source": [
    "## mari kita kelompokan aktivitas menjadi Good, Bad, dan Neutral\n",
    "display(df['Last Activity'].value_counts())\n",
    "\n",
    "# Definisikan kategori berdasarkan sudut pandang perusahaan (subjektif)\n",
    "good_activities = ['Email Opened', 'Resubscribed to emails',  'Page Visited on Website', 'Form Submitted on Website', 'Email Link Clicked', 'Had a Phone Conversation', 'Approached upfront']\n",
    "bad_activities = ['Email Bounced', 'Unreachable', 'Unsubscribed', 'Email Marked Spam']\n",
    "neutral_activities = ['Email Received', 'SMS Sent', 'Olark Chat Conversation', 'Converted to Lead', 'View in browser link Clicked', 'Visited Booth in Tradeshow']\n",
    "\n",
    "# Categorize 'Last Activity' menjadi Good, Bad, atau Neutral\n",
    "df['Last Activity Category'] = df['Last Activity'].apply(lambda x: 'Good' if x in good_activities else ('Neutral' if x in neutral_activities else 'Bad')) # Jika `Last Activity` kosong, maka dianggap Bad\n",
    "\n",
    "# Tampilkan\n",
    "last_activity_category_counts = df['Last Activity Category'].value_counts()\n",
    "display(last_activity_category_counts)\n",
    "\n",
    "df = df.drop(columns=['Last Activity']) # kita coba drop saja"
   ]
  },
  {
   "cell_type": "code",
   "execution_count": null,
   "metadata": {},
   "outputs": [],
   "source": []
  },
  {
   "cell_type": "code",
   "execution_count": null,
   "metadata": {},
   "outputs": [],
   "source": [
    "# Pembersihan Data\n",
    "# Menghapus atau mengimputasi nilai yang hilang\n",
    "imputer = SimpleImputer(strategy='most_frequent')  # atau strategi lainnya seperti mean atau median\n",
    "df['Column_Name'] = imputer.fit_transform(df[['Column_Name']])\n",
    "\n",
    "# Menghapus duplikat\n",
    "df = df.drop_duplicates()\n",
    "\n",
    "# Transformasi Data\n",
    "# Encoding variabel kategorikal\n",
    "encoder = OneHotEncoder(sparse=False, drop='first')  # drop='first' untuk menghindari multicollinearity\n",
    "encoded_columns = encoder.fit_transform(df[['Categorical_Column']])\n",
    "df_encoded = pd.DataFrame(encoded_columns, columns=encoder.get_feature_names_out())\n",
    "\n",
    "# Standarisasi data numerik\n",
    "scaler = StandardScaler()\n",
    "df[['Numerical_Column']] = scaler.fit_transform(df[['Numerical_Column']])\n",
    "\n",
    "# Menggabungkan kembali data yang telah di-encode ke dalam dataframe utama\n",
    "df = df.join(df_encoded)\n",
    "\n",
    "# Pemilihan Fitur\n",
    "# Menggunakan SelectKBest untuk memilih K fitur teratas\n",
    "selector = SelectKBest(score_func=f_classif, k=10)  # k adalah jumlah fitur yang ingin Anda pertahankan\n",
    "X_new = selector.fit_transform(df.drop('Target_Column', axis=1), df['Target_Column'])\n",
    "\n",
    "# Memilih fitur berdasarkan pengetahuan domain\n",
    "selected_features = df[['Feature_1', 'Feature_2', 'Feature_3']]"
   ]
  }
 ],
 "metadata": {
  "kernelspec": {
   "display_name": "base",
   "language": "python",
   "name": "python3"
  },
  "language_info": {
   "codemirror_mode": {
    "name": "ipython",
    "version": 3
   },
   "file_extension": ".py",
   "mimetype": "text/x-python",
   "name": "python",
   "nbconvert_exporter": "python",
   "pygments_lexer": "ipython3",
   "version": "3.9.13"
  }
 },
 "nbformat": 4,
 "nbformat_minor": 2
}
