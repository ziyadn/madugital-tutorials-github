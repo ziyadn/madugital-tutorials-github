{
 "cells": [
  {
   "cell_type": "code",
   "execution_count": 1,
   "metadata": {},
   "outputs": [],
   "source": [
    "import pandas as pd\n",
    "import numpy as np\n",
    "\n",
    "import os\n",
    "\n",
    "from sklearn.model_selection import train_test_split\n",
    "from sklearn.preprocessing import StandardScaler, OneHotEncoder\n",
    "from sklearn.compose import ColumnTransformer\n",
    "from sklearn.pipeline import Pipeline\n",
    "from sklearn.impute import SimpleImputer"
   ]
  },
  {
   "cell_type": "markdown",
   "metadata": {},
   "source": [
    "## Intro"
   ]
  },
  {
   "cell_type": "code",
   "execution_count": 2,
   "metadata": {},
   "outputs": [
    {
     "name": "stdout",
     "output_type": "stream",
     "text": [
      "<class 'pandas.core.frame.DataFrame'>\n",
      "RangeIndex: 9240 entries, 0 to 9239\n",
      "Data columns (total 37 columns):\n",
      " #   Column                                          Non-Null Count  Dtype  \n",
      "---  ------                                          --------------  -----  \n",
      " 0   Prospect ID                                     9240 non-null   object \n",
      " 1   Lead Number                                     9240 non-null   int64  \n",
      " 2   Lead Origin                                     9240 non-null   object \n",
      " 3   Lead Source                                     9204 non-null   object \n",
      " 4   Do Not Email                                    9240 non-null   object \n",
      " 5   Do Not Call                                     9240 non-null   object \n",
      " 6   Converted                                       9240 non-null   int64  \n",
      " 7   TotalVisits                                     9103 non-null   float64\n",
      " 8   Total Time Spent on Website                     9240 non-null   int64  \n",
      " 9   Page Views Per Visit                            9103 non-null   float64\n",
      " 10  Last Activity                                   9137 non-null   object \n",
      " 11  Country                                         6779 non-null   object \n",
      " 12  Specialization                                  7802 non-null   object \n",
      " 13  How did you hear about Madugital                7033 non-null   object \n",
      " 14  What is your current occupation                 6550 non-null   object \n",
      " 15  What matters most to you in choosing a product  6531 non-null   object \n",
      " 16  Search                                          9240 non-null   object \n",
      " 17  Magazine                                        9240 non-null   object \n",
      " 18  Newspaper Article                               9240 non-null   object \n",
      " 19  Madugital Telegram                              9240 non-null   object \n",
      " 20  Newspaper                                       9240 non-null   object \n",
      " 21  Digital Advertisement                           9240 non-null   object \n",
      " 22  Through Recommendations                         9240 non-null   object \n",
      " 23  Receive More Updates About Our Products         9240 non-null   object \n",
      " 24  Tags                                            5887 non-null   object \n",
      " 25  Lead Quality                                    4473 non-null   object \n",
      " 26  Update me on Supply Chain Content               9240 non-null   object \n",
      " 27  Get updates on DM Content                       9240 non-null   object \n",
      " 28  Lead Profile                                    6531 non-null   object \n",
      " 29  City                                            7820 non-null   object \n",
      " 30  Asymmetrique Activity Index                     5022 non-null   object \n",
      " 31  Asymmetrique Profile Index                      5022 non-null   object \n",
      " 32  Asymmetrique Activity Score                     5022 non-null   float64\n",
      " 33  Asymmetrique Profile Score                      5022 non-null   float64\n",
      " 34  I agree to pay the amount through cheque        9240 non-null   object \n",
      " 35  A free copy of Mastering The Interview          9240 non-null   object \n",
      " 36  Last Notable Activity                           9240 non-null   object \n",
      "dtypes: float64(4), int64(3), object(30)\n",
      "memory usage: 2.6+ MB\n"
     ]
    }
   ],
   "source": [
    "# Load data\n",
    "df = pd.read_csv('data/lead_scoring.csv')\n",
    "df.info()"
   ]
  },
  {
   "cell_type": "markdown",
   "metadata": {},
   "source": [
    "## Handling Each Columns Values"
   ]
  },
  {
   "cell_type": "code",
   "execution_count": 4,
   "metadata": {},
   "outputs": [],
   "source": [
    "## Untuk Kolom Prospect ID & Lead Number tidak ada masalah unique values dan non-null count sama yaitu `9240`"
   ]
  },
  {
   "cell_type": "code",
   "execution_count": 5,
   "metadata": {},
   "outputs": [
    {
     "name": "stdout",
     "output_type": "stream",
     "text": [
      "\n",
      "Before\n"
     ]
    },
    {
     "data": {
      "text/plain": [
       "Landing Page Submission    4886\n",
       "API                        3580\n",
       "Lead Add Form               718\n",
       "Lead Import                  55\n",
       "Quick Add Form                1\n",
       "Name: Lead Origin, dtype: int64"
      ]
     },
     "metadata": {},
     "output_type": "display_data"
    },
    {
     "name": "stdout",
     "output_type": "stream",
     "text": [
      "\n",
      "After\n"
     ]
    },
    {
     "data": {
      "text/plain": [
       "Landing Page Submission    4886\n",
       "API                        3580\n",
       "Add Form                    719\n",
       "Lead Import                  55\n",
       "Name: Lead Origin, dtype: int64"
      ]
     },
     "metadata": {},
     "output_type": "display_data"
    }
   ],
   "source": [
    "## untuk kolom Lead Origin memiliki value yang hanya 1 yaitu Quick Add Form, kita gabungkan dengan Lead Ads Form\n",
    "print(\"\\nBefore\")\n",
    "display(df['Lead Origin'].value_counts())\n",
    "\n",
    "df['Lead Origin'] = np.where(df['Lead Origin'].str.contains(\"Add Form\"), \"Add Form\", df['Lead Origin'])\n",
    "print(\"\\nAfter\")\n",
    "display(df['Lead Origin'].value_counts())"
   ]
  },
  {
   "cell_type": "code",
   "execution_count": 6,
   "metadata": {},
   "outputs": [
    {
     "name": "stdout",
     "output_type": "stream",
     "text": [
      "\n",
      "Before\n"
     ]
    },
    {
     "data": {
      "text/plain": [
       "Google               0.310390\n",
       "Direct Traffic       0.275216\n",
       "Olark Chat           0.189935\n",
       "Organic Search       0.124892\n",
       "Reference            0.057792\n",
       "Welingak Website     0.015368\n",
       "Referral Sites       0.013528\n",
       "Facebook             0.005952\n",
       "Not Specified        0.003896\n",
       "bing                 0.000649\n",
       "google               0.000541\n",
       "Click2call           0.000433\n",
       "Press_Release        0.000216\n",
       "Social Media         0.000216\n",
       "Live Chat            0.000216\n",
       "youtubechannel       0.000108\n",
       "testone              0.000108\n",
       "Pay per Click Ads    0.000108\n",
       "welearnblog_Home     0.000108\n",
       "WeLearn              0.000108\n",
       "blog                 0.000108\n",
       "NC_EDM               0.000108\n",
       "Name: Lead Source, dtype: float64"
      ]
     },
     "metadata": {},
     "output_type": "display_data"
    },
    {
     "name": "stdout",
     "output_type": "stream",
     "text": [
      "\n",
      "After\n"
     ]
    },
    {
     "data": {
      "text/plain": [
       "Google              0.310390\n",
       "Direct Traffic      0.275216\n",
       "Olark Chat          0.189935\n",
       "Organic Search      0.124892\n",
       "Reference           0.057792\n",
       "Welingak Website    0.015368\n",
       "Referral Sites      0.013528\n",
       "Others              0.012879\n",
       "Name: Lead Source, dtype: float64"
      ]
     },
     "metadata": {},
     "output_type": "display_data"
    }
   ],
   "source": [
    "## untuk kolom Lead Source, mari kita ganti Source yang kurang dari 1% populasi menjadi `Others`\n",
    "# Tampilkan jumlah nilai untuk kolom 'Lead Source', dinormalisasi untuk menampilkan persentase\n",
    "df['Lead Source'] = df['Lead Source'].fillna('Not Specified')\n",
    "lead_source_percentage = df['Lead Source'].value_counts(normalize=True)\n",
    "print(\"\\nBefore\")\n",
    "display(lead_source_percentage)\n",
    "\n",
    "# Lanjutkan dengan kode untuk mengganti Lead Source yang menyumbang kurang dari 1% populasi dengan 'Others'\n",
    "threshold = 0.01  # 1% threshold\n",
    "sources_to_replace = lead_source_percentage[lead_source_percentage < threshold].index\n",
    "\n",
    "# Ganti Lead Source yang menyumbang kurang dari 1% populasi dengan 'Others'\n",
    "df['Lead Source'] = df['Lead Source'].apply(lambda x: 'Others' if x in sources_to_replace else x)\n",
    "print(\"\\nAfter\")\n",
    "display(df['Lead Source'].value_counts(normalize=True))"
   ]
  },
  {
   "cell_type": "code",
   "execution_count": 7,
   "metadata": {},
   "outputs": [
    {
     "data": {
      "text/plain": [
       "No     8506\n",
       "Yes     734\n",
       "Name: Do Not Email, dtype: int64"
      ]
     },
     "execution_count": 7,
     "metadata": {},
     "output_type": "execute_result"
    }
   ],
   "source": [
    "df['Do Not Email'].value_counts() ## tidak ada yang perlu dihandling"
   ]
  },
  {
   "cell_type": "code",
   "execution_count": 8,
   "metadata": {},
   "outputs": [
    {
     "data": {
      "text/plain": [
       "No     9238\n",
       "Yes       2\n",
       "Name: Do Not Call, dtype: int64"
      ]
     },
     "execution_count": 8,
     "metadata": {},
     "output_type": "execute_result"
    }
   ],
   "source": [
    "df['Do Not Call'].value_counts() ## tidak ada yang perlu dihandling"
   ]
  },
  {
   "cell_type": "code",
   "execution_count": 9,
   "metadata": {},
   "outputs": [
    {
     "data": {
      "text/plain": [
       "0    5679\n",
       "1    3561\n",
       "Name: Converted, dtype: int64"
      ]
     },
     "execution_count": 9,
     "metadata": {},
     "output_type": "execute_result"
    }
   ],
   "source": [
    "df['Converted'].value_counts() ## tidak ada yang perlu dihandling"
   ]
  },
  {
   "cell_type": "code",
   "execution_count": 10,
   "metadata": {},
   "outputs": [
    {
     "data": {
      "text/plain": [
       "count    9103.000000\n",
       "mean        3.445238\n",
       "std         4.854853\n",
       "min         0.000000\n",
       "25%         1.000000\n",
       "50%         3.000000\n",
       "75%         5.000000\n",
       "max       251.000000\n",
       "Name: TotalVisits, dtype: float64"
      ]
     },
     "metadata": {},
     "output_type": "display_data"
    },
    {
     "data": {
      "text/plain": [
       "count    9240.000000\n",
       "mean        3.394156\n",
       "std         4.836682\n",
       "min         0.000000\n",
       "25%         0.000000\n",
       "50%         3.000000\n",
       "75%         5.000000\n",
       "max       251.000000\n",
       "Name: TotalVisits, dtype: float64"
      ]
     },
     "metadata": {},
     "output_type": "display_data"
    }
   ],
   "source": [
    "display(df['TotalVisits'].describe()) ## ada null values, mari kita isi dengan `0`\n",
    "df['TotalVisits'].fillna(0, inplace=True)\n",
    "display(df['TotalVisits'].describe()) "
   ]
  },
  {
   "cell_type": "code",
   "execution_count": 11,
   "metadata": {},
   "outputs": [
    {
     "data": {
      "text/plain": [
       "count    9103.000000\n",
       "mean        2.362820\n",
       "std         2.161418\n",
       "min         0.000000\n",
       "25%         1.000000\n",
       "50%         2.000000\n",
       "75%         3.000000\n",
       "max        55.000000\n",
       "Name: Page Views Per Visit, dtype: float64"
      ]
     },
     "metadata": {},
     "output_type": "display_data"
    },
    {
     "data": {
      "text/plain": [
       "count    9240.000000\n",
       "mean        2.327787\n",
       "std         2.164258\n",
       "min         0.000000\n",
       "25%         0.000000\n",
       "50%         2.000000\n",
       "75%         3.000000\n",
       "max        55.000000\n",
       "Name: Page Views Per Visit, dtype: float64"
      ]
     },
     "metadata": {},
     "output_type": "display_data"
    }
   ],
   "source": [
    "display(df['Page Views Per Visit'].describe()) ## ada null values, mari kita isi dengan `0`\n",
    "df['Page Views Per Visit'].fillna(0, inplace=True)\n",
    "display(df['Page Views Per Visit'].describe()) "
   ]
  },
  {
   "cell_type": "code",
   "execution_count": 12,
   "metadata": {},
   "outputs": [
    {
     "data": {
      "text/plain": [
       "Email Opened                    3437\n",
       "SMS Sent                        2745\n",
       "Olark Chat Conversation          973\n",
       "Page Visited on Website          640\n",
       "Converted to Lead                428\n",
       "Email Bounced                    326\n",
       "Email Link Clicked               267\n",
       "Form Submitted on Website        116\n",
       "Unreachable                       93\n",
       "Unsubscribed                      61\n",
       "Had a Phone Conversation          30\n",
       "Approached upfront                 9\n",
       "View in browser link Clicked       6\n",
       "Email Received                     2\n",
       "Email Marked Spam                  2\n",
       "Visited Booth in Tradeshow         1\n",
       "Resubscribed to emails             1\n",
       "Name: Last Activity, dtype: int64"
      ]
     },
     "metadata": {},
     "output_type": "display_data"
    },
    {
     "data": {
      "text/plain": [
       "Good       4500\n",
       "Neutral    4155\n",
       "Bad         585\n",
       "Name: Last Activity Category, dtype: int64"
      ]
     },
     "metadata": {},
     "output_type": "display_data"
    }
   ],
   "source": [
    "## mari kita kelompokan aktivitas menjadi Good, Bad, dan Neutral\n",
    "display(df['Last Activity'].value_counts())\n",
    "\n",
    "# Definisikan kategori berdasarkan sudut pandang perusahaan (subjektif)\n",
    "good_activities = ['Email Opened', 'Resubscribed to emails',  'Page Visited on Website', 'Form Submitted on Website', 'Email Link Clicked', 'Had a Phone Conversation', 'Approached upfront']\n",
    "bad_activities = ['Email Bounced', 'Unreachable', 'Unsubscribed', 'Email Marked Spam']\n",
    "neutral_activities = ['Email Received', 'SMS Sent', 'Olark Chat Conversation', 'Converted to Lead', 'View in browser link Clicked', 'Visited Booth in Tradeshow']\n",
    "\n",
    "# Categorize 'Last Activity' menjadi Good, Bad, atau Neutral\n",
    "df['Last Activity Category'] = df['Last Activity'].apply(lambda x: 'Good' if x in good_activities else ('Neutral' if x in neutral_activities else 'Bad')) # Jika `Last Activity` kosong, maka dianggap Bad\n",
    "\n",
    "# Tampilkan\n",
    "last_activity_category_counts = df['Last Activity Category'].value_counts()\n",
    "display(last_activity_category_counts)\n",
    "\n",
    "df = df.drop(columns=['Last Activity']) # kita coba drop saja"
   ]
  },
  {
   "cell_type": "code",
   "execution_count": 13,
   "metadata": {},
   "outputs": [
    {
     "name": "stdout",
     "output_type": "stream",
     "text": [
      "\n",
      "Before\n"
     ]
    },
    {
     "data": {
      "text/plain": [
       "Indonesia               6492\n",
       "United States             69\n",
       "United Arab Emirates      53\n",
       "Singapore                 24\n",
       "Saudi Arabia              21\n",
       "United Kingdom            15\n",
       "Australia                 13\n",
       "Qatar                     10\n",
       "Hong Kong                  7\n",
       "Bahrain                    7\n",
       "Oman                       6\n",
       "France                     6\n",
       "unknown                    5\n",
       "South Africa               4\n",
       "Nigeria                    4\n",
       "Germany                    4\n",
       "Kuwait                     4\n",
       "Canada                     4\n",
       "Sweden                     3\n",
       "China                      2\n",
       "Asia/Pacific Region        2\n",
       "Uganda                     2\n",
       "Bangladesh                 2\n",
       "Italy                      2\n",
       "Belgium                    2\n",
       "Netherlands                2\n",
       "Ghana                      2\n",
       "Philippines                2\n",
       "Russia                     1\n",
       "Switzerland                1\n",
       "Vietnam                    1\n",
       "Denmark                    1\n",
       "Tanzania                   1\n",
       "Liberia                    1\n",
       "Malaysia                   1\n",
       "Kenya                      1\n",
       "Sri Lanka                  1\n",
       "India                      1\n",
       "Name: Country, dtype: int64"
      ]
     },
     "metadata": {},
     "output_type": "display_data"
    },
    {
     "name": "stdout",
     "output_type": "stream",
     "text": [
      "\n",
      "After\n"
     ]
    },
    {
     "data": {
      "text/plain": [
       "Indonesia            6492\n",
       "Outside Indonesia    2748\n",
       "Name: Country, dtype: int64"
      ]
     },
     "metadata": {},
     "output_type": "display_data"
    }
   ],
   "source": [
    "# Mari kita ubah menjadi Indonesia & Outside Indoneisa\n",
    "print(\"\\nBefore\")\n",
    "display(df['Country'].value_counts())\n",
    "\n",
    "df['Country'] = np.where(df['Country']=='Indonesia', 'Indonesia', 'Outside Indonesia') # termasuk yang Null/None\n",
    "\n",
    "print(\"\\nAfter\")\n",
    "display(df['Country'].value_counts())\n"
   ]
  },
  {
   "cell_type": "code",
   "execution_count": 14,
   "metadata": {},
   "outputs": [
    {
     "name": "stdout",
     "output_type": "stream",
     "text": [
      "\n",
      "Before\n"
     ]
    },
    {
     "data": {
      "text/plain": [
       "Select                               1942\n",
       "Finance Management                    976\n",
       "Human Resource Management             848\n",
       "Marketing Management                  838\n",
       "Operations Management                 503\n",
       "Business Administration               403\n",
       "IT Projects Management                366\n",
       "Supply Chain Management               349\n",
       "Banking, Investment And Insurance     338\n",
       "Travel and Tourism                    203\n",
       "Media and Advertising                 203\n",
       "International Business                178\n",
       "Healthcare Management                 159\n",
       "Hospitality Management                114\n",
       "E-COMMERCE                            112\n",
       "Retail Management                     100\n",
       "Rural and Agribusiness                 73\n",
       "E-Business                             57\n",
       "Services Excellence                    40\n",
       "Name: Specialization, dtype: int64"
      ]
     },
     "metadata": {},
     "output_type": "display_data"
    },
    {
     "name": "stdout",
     "output_type": "stream",
     "text": [
      "\n",
      "After\n"
     ]
    },
    {
     "data": {
      "text/plain": [
       "Not Specified                        3380\n",
       "Finance Management                    976\n",
       "Human Resource Management             848\n",
       "Marketing Management                  838\n",
       "Operations Management                 503\n",
       "Business Administration               403\n",
       "IT Projects Management                366\n",
       "Supply Chain Management               349\n",
       "Banking, Investment And Insurance     338\n",
       "Travel and Tourism                    203\n",
       "Media and Advertising                 203\n",
       "International Business                178\n",
       "Healthcare Management                 159\n",
       "Hospitality Management                114\n",
       "E-COMMERCE                            112\n",
       "Retail Management                     100\n",
       "Rural and Agribusiness                 73\n",
       "E-Business                             57\n",
       "Services Excellence                    40\n",
       "Name: Specialization, dtype: int64"
      ]
     },
     "metadata": {},
     "output_type": "display_data"
    }
   ],
   "source": [
    "# ubah `Select` menjadi 'Not Specified', begitu pula yang Null/None\n",
    "print(\"\\nBefore\")\n",
    "display(df['Specialization'].value_counts())\n",
    "\n",
    "df['Specialization'] = np.where(df['Specialization']=='Select', 'Not Specified', df['Specialization'].fillna('Not Specified'))\n",
    "\n",
    "print(\"\\nAfter\")\n",
    "display(df['Specialization'].value_counts())"
   ]
  },
  {
   "cell_type": "code",
   "execution_count": 15,
   "metadata": {},
   "outputs": [
    {
     "name": "stdout",
     "output_type": "stream",
     "text": [
      "\n",
      "Before\n"
     ]
    },
    {
     "data": {
      "text/plain": [
       "Select                   5043\n",
       "Online Search             808\n",
       "Word Of Mouth             348\n",
       "Student of SomeSchool     310\n",
       "Other                     186\n",
       "Multiple Sources          152\n",
       "Advertisements             70\n",
       "Social Media               67\n",
       "Email                      26\n",
       "SMS                        23\n",
       "Name: How did you hear about Madugital, dtype: int64"
      ]
     },
     "metadata": {},
     "output_type": "display_data"
    },
    {
     "name": "stdout",
     "output_type": "stream",
     "text": [
      "\n",
      "After\n"
     ]
    },
    {
     "data": {
      "text/plain": [
       "Not Specified            7250\n",
       "Online Search             808\n",
       "Word Of Mouth             348\n",
       "Student of SomeSchool     310\n",
       "Other                     186\n",
       "Multiple Sources          152\n",
       "Advertisements             70\n",
       "Social Media               67\n",
       "Email                      26\n",
       "SMS                        23\n",
       "Name: How did you hear about Madugital, dtype: int64"
      ]
     },
     "metadata": {},
     "output_type": "display_data"
    }
   ],
   "source": [
    "# ubah `Select` menjadi 'Not Specified', begitu pula yang Null/None\n",
    "print(\"\\nBefore\")\n",
    "display(df['How did you hear about Madugital'].value_counts())\n",
    "\n",
    "df['How did you hear about Madugital'] = np.where(df['How did you hear about Madugital']=='Select', 'Not Specified', df['How did you hear about Madugital'].fillna('Not Specified'))\n",
    "\n",
    "print(\"\\nAfter\")\n",
    "display(df['How did you hear about Madugital'].value_counts())"
   ]
  },
  {
   "cell_type": "code",
   "execution_count": 16,
   "metadata": {},
   "outputs": [
    {
     "data": {
      "text/plain": [
       "Unemployed              5600\n",
       "Not Specified           2690\n",
       "Working Professional     706\n",
       "Student                  210\n",
       "Other                     16\n",
       "Housewife                 10\n",
       "Businessman                8\n",
       "Name: What is your current occupation, dtype: int64"
      ]
     },
     "execution_count": 16,
     "metadata": {},
     "output_type": "execute_result"
    }
   ],
   "source": [
    "# isi missing values dengan \"Not Specified\"\n",
    "df['What is your current occupation'] = df['What is your current occupation'].fillna('Not Specified')\n",
    "df['What is your current occupation'].value_counts()"
   ]
  },
  {
   "cell_type": "code",
   "execution_count": 17,
   "metadata": {},
   "outputs": [
    {
     "data": {
      "text/plain": [
       "Healthy for life    6528\n",
       "Not Specified       2709\n",
       "Branding               2\n",
       "Other                  1\n",
       "Name: What matters most to you in choosing a product, dtype: int64"
      ]
     },
     "execution_count": 17,
     "metadata": {},
     "output_type": "execute_result"
    }
   ],
   "source": [
    "# ubah Null/None menjadi 'Not Specified'\n",
    "df['What matters most to you in choosing a product'] = df['What matters most to you in choosing a product'].fillna('Not Specified')\n",
    "df['What matters most to you in choosing a product'].value_counts()"
   ]
  },
  {
   "cell_type": "code",
   "execution_count": 18,
   "metadata": {},
   "outputs": [
    {
     "data": {
      "text/plain": [
       "Search  Magazine  Newspaper Article  Madugital Telegram  Newspaper  Digital Advertisement  Through Recommendations  Receive More Updates About Our Products\n",
       "No      No        No                 No                  No         No                     No                       No                                         9217\n",
       "Yes     No        No                 No                  No         No                     No                       No                                           11\n",
       "No      No        No                 No                  No         No                     Yes                      No                                            4\n",
       "                                                                    Yes                    No                       No                                            3\n",
       "Yes     No        No                 No                  No         No                     Yes                      No                                            2\n",
       "No      No        No                 No                  Yes        No                     No                       No                                            1\n",
       "                  Yes                No                  No         No                     No                       No                                            1\n",
       "Yes     No        Yes                Yes                 No         Yes                    Yes                      No                                            1\n",
       "dtype: int64"
      ]
     },
     "execution_count": 18,
     "metadata": {},
     "output_type": "execute_result"
    }
   ],
   "source": [
    "cols = ['Search', 'Magazine',\n",
    "       'Newspaper Article', 'Madugital Telegram', 'Newspaper',\n",
    "       'Digital Advertisement', 'Through Recommendations',\n",
    "       'Receive More Updates About Our Products']\n",
    "df[cols].value_counts() # kolom aman"
   ]
  },
  {
   "cell_type": "code",
   "execution_count": 19,
   "metadata": {},
   "outputs": [
    {
     "name": "stdout",
     "output_type": "stream",
     "text": [
      "\n",
      "Before\n"
     ]
    },
    {
     "data": {
      "text/plain": [
       "Not Specified                                        0.362879\n",
       "Will revert after reading the email                  0.224242\n",
       "Ringing                                              0.130195\n",
       "Interested in other courses                          0.055519\n",
       "Already a student                                    0.050325\n",
       "Closed by Horizzon                                   0.038745\n",
       "switched off                                         0.025974\n",
       "Busy                                                 0.020130\n",
       "Lost to EINS                                         0.018939\n",
       "Not doing further education                          0.015693\n",
       "Interested  in full time MBA                         0.012662\n",
       "Graduation in progress                               0.012013\n",
       "invalid number                                       0.008983\n",
       "Diploma holder (Not Eligible)                        0.006818\n",
       "wrong number given                                   0.005087\n",
       "opp hangup                                           0.003571\n",
       "number not provided                                  0.002922\n",
       "in touch with EINS                                   0.001299\n",
       "Lost to Others                                       0.000758\n",
       "Still Thinking                                       0.000649\n",
       "Want to take admission but has financial problems    0.000649\n",
       "In confusion whether part time or DLP                0.000541\n",
       "Interested in Next batch                             0.000541\n",
       "Lateral student                                      0.000325\n",
       "Shall take in the next coming month                  0.000216\n",
       "University not recognized                            0.000216\n",
       "Recognition issue (DEC approval)                     0.000108\n",
       "Name: Tags, dtype: float64"
      ]
     },
     "metadata": {},
     "output_type": "display_data"
    },
    {
     "name": "stdout",
     "output_type": "stream",
     "text": [
      "\n",
      "After\n"
     ]
    },
    {
     "data": {
      "text/plain": [
       "Not Specified                          0.362879\n",
       "Will revert after reading the email    0.224242\n",
       "Ringing                                0.130195\n",
       "Interested in other courses            0.055519\n",
       "Already a student                      0.050325\n",
       "Closed by Horizzon                     0.038745\n",
       "Others                                 0.032684\n",
       "switched off                           0.025974\n",
       "Busy                                   0.020130\n",
       "Lost to EINS                           0.018939\n",
       "Not doing further education            0.015693\n",
       "Interested  in full time MBA           0.012662\n",
       "Graduation in progress                 0.012013\n",
       "Name: Tags, dtype: float64"
      ]
     },
     "metadata": {},
     "output_type": "display_data"
    }
   ],
   "source": [
    "## untuk kolom Tags, mari kita ganti yang kurang dari 1% populasi menjadi `Others`\n",
    "# Tampilkan jumlah nilai untuk kolom 'Tags', dinormalisasi untuk menampilkan persentase\n",
    "df['Tags'] = df['Tags'].fillna('Not Specified')\n",
    "tags_percentage = df['Tags'].value_counts(normalize=True)\n",
    "print(\"\\nBefore\")\n",
    "display(tags_percentage)\n",
    "\n",
    "# Lanjutkan dengan kode untuk mengganti Tags yang menyumbang kurang dari 1% populasi dengan 'Others'\n",
    "threshold = 0.01  # 1% threshold\n",
    "sources_to_replace = tags_percentage[tags_percentage < threshold].index\n",
    "\n",
    "# Ganti Tags yang menyumbang kurang dari 1% populasi dengan 'Others'\n",
    "df['Tags'] = df['Tags'].apply(lambda x: 'Others' if x in sources_to_replace else x)\n",
    "print(\"\\nAfter\")\n",
    "display(df['Tags'].value_counts(normalize=True))"
   ]
  },
  {
   "cell_type": "code",
   "execution_count": 20,
   "metadata": {},
   "outputs": [],
   "source": [
    "# fill with Unknown\n",
    "df['Lead Quality'] = df['Lead Quality'].fillna('Not Specified')"
   ]
  },
  {
   "cell_type": "code",
   "execution_count": 21,
   "metadata": {},
   "outputs": [
    {
     "data": {
      "text/plain": [
       "Update me on Supply Chain Content  Get updates on DM Content\n",
       "No                                 No                           9240\n",
       "dtype: int64"
      ]
     },
     "execution_count": 21,
     "metadata": {},
     "output_type": "execute_result"
    }
   ],
   "source": [
    "df[['Update me on Supply Chain Content', 'Get updates on DM Content']].value_counts() # aman"
   ]
  },
  {
   "cell_type": "code",
   "execution_count": 22,
   "metadata": {},
   "outputs": [
    {
     "data": {
      "text/plain": [
       "Not Specified                  6855\n",
       "Potential Lead                 1613\n",
       "Other Leads                     487\n",
       "Student of SomeSchool           241\n",
       "Lateral Student                  24\n",
       "Dual Specialization Student      20\n",
       "Name: Lead Profile, dtype: int64"
      ]
     },
     "execution_count": 22,
     "metadata": {},
     "output_type": "execute_result"
    }
   ],
   "source": [
    "# ubah select jadi `Not Specified` dan yang null diisi sama\n",
    "df['Lead Profile'] = np.where(df['Lead Profile']=='Select', 'Not Specified', df['Lead Profile'].fillna('Not Specified'))\n",
    "df['Lead Profile'].value_counts()"
   ]
  },
  {
   "cell_type": "code",
   "execution_count": 23,
   "metadata": {},
   "outputs": [
    {
     "data": {
      "text/plain": [
       "Not Specified                    3669\n",
       "Jakarta                          3222\n",
       "Bodetabek                         752\n",
       "Other Cities                      686\n",
       "Cities in Banten & Jawa Barat     457\n",
       "Other Metro Cities                380\n",
       "Tier II Cities                     74\n",
       "Name: City, dtype: int64"
      ]
     },
     "execution_count": 23,
     "metadata": {},
     "output_type": "execute_result"
    }
   ],
   "source": [
    "# ubah select jadi `Not Specified` dan yang null diisi sama\n",
    "df['City'] = np.where(df['City']=='Select', 'Not Specified', df['City'].fillna('Not Specified'))\n",
    "df['City'].value_counts()"
   ]
  },
  {
   "cell_type": "code",
   "execution_count": 24,
   "metadata": {},
   "outputs": [
    {
     "data": {
      "text/plain": [
       "00.Zero      4218\n",
       "02.Medium    3839\n",
       "01.High       821\n",
       "03.Low        362\n",
       "Name: Asymmetrique Activity Index, dtype: int64"
      ]
     },
     "metadata": {},
     "output_type": "display_data"
    },
    {
     "data": {
      "text/plain": [
       "00.Zero      4218\n",
       "02.Medium    2788\n",
       "01.High      2203\n",
       "03.Low         31\n",
       "Name: Asymmetrique Profile Index, dtype: int64"
      ]
     },
     "metadata": {},
     "output_type": "display_data"
    }
   ],
   "source": [
    "# isi missing values dengan 0 untuk Score / 00.Zero untku Index\n",
    "df['Asymmetrique Activity Score'] = df['Asymmetrique Activity Score'].fillna(0)\n",
    "df['Asymmetrique Activity Index'] = df['Asymmetrique Activity Index'].fillna('00.Zero')\n",
    "display(df['Asymmetrique Activity Index'].value_counts())\n",
    "\n",
    "df['Asymmetrique Profile Score'] = df['Asymmetrique Profile Score'].fillna(0)\n",
    "df['Asymmetrique Profile Index'] = df['Asymmetrique Profile Index'].fillna('00.Zero')\n",
    "display(df['Asymmetrique Profile Index'].value_counts())"
   ]
  },
  {
   "cell_type": "code",
   "execution_count": 25,
   "metadata": {},
   "outputs": [
    {
     "data": {
      "text/plain": [
       "I agree to pay the amount through cheque  A free copy of Mastering The Interview\n",
       "No                                        No                                        6352\n",
       "                                          Yes                                       2888\n",
       "dtype: int64"
      ]
     },
     "execution_count": 25,
     "metadata": {},
     "output_type": "execute_result"
    }
   ],
   "source": [
    "df[['I agree to pay the amount through cheque', 'A free copy of Mastering The Interview']].value_counts() # aman"
   ]
  },
  {
   "cell_type": "code",
   "execution_count": 26,
   "metadata": {},
   "outputs": [
    {
     "name": "stdout",
     "output_type": "stream",
     "text": [
      "\n",
      "Before\n"
     ]
    },
    {
     "data": {
      "text/plain": [
       "Modified                        0.368723\n",
       "Email Opened                    0.305952\n",
       "SMS Sent                        0.235065\n",
       "Page Visited on Website         0.034416\n",
       "Olark Chat Conversation         0.019805\n",
       "Email Link Clicked              0.018723\n",
       "Email Bounced                   0.006494\n",
       "Unsubscribed                    0.005087\n",
       "Unreachable                     0.003463\n",
       "Had a Phone Conversation        0.001515\n",
       "Email Marked Spam               0.000216\n",
       "Approached upfront              0.000108\n",
       "Resubscribed to emails          0.000108\n",
       "View in browser link Clicked    0.000108\n",
       "Form Submitted on Website       0.000108\n",
       "Email Received                  0.000108\n",
       "Name: Last Notable Activity, dtype: float64"
      ]
     },
     "metadata": {},
     "output_type": "display_data"
    },
    {
     "name": "stdout",
     "output_type": "stream",
     "text": [
      "\n",
      "After\n"
     ]
    },
    {
     "data": {
      "text/plain": [
       "Modified                   0.368723\n",
       "Email Opened               0.305952\n",
       "SMS Sent                   0.235065\n",
       "Page Visited on Website    0.034416\n",
       "Olark Chat Conversation    0.019805\n",
       "Email Link Clicked         0.018723\n",
       "Others                     0.017316\n",
       "Name: Last Notable Activity, dtype: float64"
      ]
     },
     "metadata": {},
     "output_type": "display_data"
    }
   ],
   "source": [
    "## untuk kolom Last Notable Activity, mari kita ganti yang kurang dari 1% populasi menjadi `Others`\n",
    "# Tampilkan jumlah nilai untuk kolom 'Last Notable Activity', dinormalisasi untuk menampilkan persentase\n",
    "df['Last Notable Activity'] = df['Last Notable Activity'].fillna('Not Specified')\n",
    "act_percentage = df['Last Notable Activity'].value_counts(normalize=True)\n",
    "print(\"\\nBefore\")\n",
    "display(act_percentage)\n",
    "\n",
    "# Lanjutkan dengan kode untuk mengganti Last Notable Activity yang menyumbang kurang dari 1% populasi dengan 'Others'\n",
    "threshold = 0.01  # 1% threshold\n",
    "sources_to_replace = act_percentage[act_percentage < threshold].index\n",
    "\n",
    "# Ganti Last Notable Activity yang menyumbang kurang dari 1% populasi dengan 'Others'\n",
    "df['Last Notable Activity'] = df['Last Notable Activity'].apply(lambda x: 'Others' if x in sources_to_replace else x)\n",
    "print(\"\\nAfter\")\n",
    "display(df['Last Notable Activity'].value_counts(normalize=True))"
   ]
  },
  {
   "cell_type": "markdown",
   "metadata": {},
   "source": [
    "## Persiapan Data"
   ]
  },
  {
   "cell_type": "code",
   "execution_count": null,
   "metadata": {},
   "outputs": [],
   "source": [
    "# Menghapus duplikat\n",
    "df = df.drop_duplicates()\n",
    "\n",
    "cols = ['I agree to pay the amount through cheque', 'A free copy of Mastering The Interview', 'Update me on Supply Chain Content', 'Get updates on DM Content', 'Search', 'Magazine',\n",
    "       'Newspaper Article', 'Madugital Telegram', 'Newspaper', 'Digital Advertisement', 'Through Recommendations', 'Receive More Updates About Our Products', 'Do Not Email', 'Do Not Call']\n",
    "\n",
    "# Ganti 'Yes' dengan 1 dan 'No' dengan 0 pada kolom-kolom diatas\n",
    "df[cols] = df[cols].replace({'Yes': 1, 'No': 0})\n",
    "\n",
    "saved_file_path = os.path.join(\"data\", \"prepared_leads_scoring.csv\")\n",
    "df.to_csv(saved_file_path, index=0)"
   ]
  },
  {
   "cell_type": "code",
   "execution_count": 32,
   "metadata": {},
   "outputs": [
    {
     "data": {
      "text/plain": [
       "((7392, 123), (1848, 123))"
      ]
     },
     "execution_count": 32,
     "metadata": {},
     "output_type": "execute_result"
    }
   ],
   "source": [
    "# Identifikasi categorical dan numerical columns\n",
    "categorical_cols = df.select_dtypes(include=['object', 'category']).columns.tolist()\n",
    "numerical_cols = df.select_dtypes(include=['int64', 'float64']).columns.tolist()\n",
    "\n",
    "# Remove `Converted` kolom\n",
    "numerical_cols.remove('Converted')\n",
    "numerical_cols.remove('Lead Number')\n",
    "categorical_cols.remove('Prospect ID')\n",
    "\n",
    "# Pipeline untuk fitur numerik\n",
    "numeric_transformer = Pipeline(steps=[\n",
    "    ('imputer', SimpleImputer(strategy='constant', fill_value=0)),\n",
    "    ('scaler', StandardScaler())\n",
    "])\n",
    "\n",
    "# Pipeline untuk fitur kategorik\n",
    "categorical_transformer = Pipeline(steps=[\n",
    "    ('imputer', SimpleImputer(strategy='constant', fill_value='Not Specified')),\n",
    "    ('onehot', OneHotEncoder(handle_unknown='ignore'))\n",
    "])\n",
    "\n",
    "# menggabungkan transformer menjadi preprocessor\n",
    "preprocessor = ColumnTransformer(\n",
    "    transformers=[\n",
    "        ('num', numeric_transformer, numerical_cols),\n",
    "        ('cat', categorical_transformer, categorical_cols)\n",
    "    ])\n",
    "\n",
    "# Splitting the data into training and testing sets\n",
    "X = df.drop(columns=['Converted', 'Prospect ID', 'Lead Number'])\n",
    "y = df['Converted']\n",
    "X_train, X_test, y_train, y_test = train_test_split(X, y, test_size=0.2, random_state=42)\n",
    "\n",
    "# Applying the preprocessor to the training data\n",
    "X_train_preprocessed = preprocessor.fit_transform(X_train)\n",
    "X_test_preprocessed = preprocessor.transform(X_test)\n",
    "\n",
    "# Displaying the shape of the processed data\n",
    "X_train_preprocessed.shape, X_test_preprocessed.shape"
   ]
  }
 ],
 "metadata": {
  "kernelspec": {
   "display_name": "base",
   "language": "python",
   "name": "python3"
  },
  "language_info": {
   "codemirror_mode": {
    "name": "ipython",
    "version": 3
   },
   "file_extension": ".py",
   "mimetype": "text/x-python",
   "name": "python",
   "nbconvert_exporter": "python",
   "pygments_lexer": "ipython3",
   "version": "3.9.13"
  }
 },
 "nbformat": 4,
 "nbformat_minor": 2
}
