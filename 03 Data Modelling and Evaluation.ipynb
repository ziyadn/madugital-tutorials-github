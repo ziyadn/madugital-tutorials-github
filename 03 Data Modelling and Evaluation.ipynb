{
 "cells": [
  {
   "cell_type": "markdown",
   "metadata": {},
   "source": [
    "# 1. Pendahuluan"
   ]
  },
  {
   "cell_type": "code",
   "execution_count": 1,
   "metadata": {},
   "outputs": [],
   "source": [
    "import pandas as pd\n",
    "import numpy as np\n",
    "import os\n",
    "import pickle\n",
    "\n",
    "import matplotlib.pyplot as plt\n",
    "\n",
    "# Data Preparation\n",
    "from sklearn.preprocessing import StandardScaler, OneHotEncoder\n",
    "from sklearn.compose import ColumnTransformer\n",
    "from sklearn.pipeline import Pipeline\n",
    "from sklearn.impute import SimpleImputer\n",
    "\n",
    "# Data Modelling\n",
    "from sklearn.model_selection import train_test_split, RandomizedSearchCV\n",
    "from sklearn.linear_model import LogisticRegression\n",
    "from sklearn.tree import DecisionTreeClassifier\n",
    "from sklearn.ensemble import RandomForestClassifier\n",
    "from sklearn.metrics import classification_report, f1_score"
   ]
  },
  {
   "cell_type": "code",
   "execution_count": 2,
   "metadata": {},
   "outputs": [
    {
     "data": {
      "text/html": [
       "<div>\n",
       "<style scoped>\n",
       "    .dataframe tbody tr th:only-of-type {\n",
       "        vertical-align: middle;\n",
       "    }\n",
       "\n",
       "    .dataframe tbody tr th {\n",
       "        vertical-align: top;\n",
       "    }\n",
       "\n",
       "    .dataframe thead th {\n",
       "        text-align: right;\n",
       "    }\n",
       "</style>\n",
       "<table border=\"1\" class=\"dataframe\">\n",
       "  <thead>\n",
       "    <tr style=\"text-align: right;\">\n",
       "      <th></th>\n",
       "      <th>Prospect ID</th>\n",
       "      <th>Lead Number</th>\n",
       "      <th>Lead Origin</th>\n",
       "      <th>Lead Source</th>\n",
       "      <th>Do Not Email</th>\n",
       "      <th>Do Not Call</th>\n",
       "      <th>Converted</th>\n",
       "      <th>TotalVisits</th>\n",
       "      <th>Total Time Spent on Website</th>\n",
       "      <th>Page Views Per Visit</th>\n",
       "      <th>...</th>\n",
       "      <th>Lead Profile</th>\n",
       "      <th>City</th>\n",
       "      <th>Asymmetrique Activity Index</th>\n",
       "      <th>Asymmetrique Profile Index</th>\n",
       "      <th>Asymmetrique Activity Score</th>\n",
       "      <th>Asymmetrique Profile Score</th>\n",
       "      <th>I agree to pay the amount through cheque</th>\n",
       "      <th>A free copy of Mastering The Interview</th>\n",
       "      <th>Last Notable Activity</th>\n",
       "      <th>Last Activity Category</th>\n",
       "    </tr>\n",
       "  </thead>\n",
       "  <tbody>\n",
       "    <tr>\n",
       "      <th>0</th>\n",
       "      <td>7927b2df-8bba-4d29-b9a2-b6e0beafe620</td>\n",
       "      <td>660737</td>\n",
       "      <td>API</td>\n",
       "      <td>Olark Chat</td>\n",
       "      <td>0</td>\n",
       "      <td>0</td>\n",
       "      <td>0</td>\n",
       "      <td>0.0</td>\n",
       "      <td>0</td>\n",
       "      <td>0.0</td>\n",
       "      <td>...</td>\n",
       "      <td>Not Specified</td>\n",
       "      <td>Not Specified</td>\n",
       "      <td>02.Medium</td>\n",
       "      <td>02.Medium</td>\n",
       "      <td>15.0</td>\n",
       "      <td>15.0</td>\n",
       "      <td>0</td>\n",
       "      <td>0</td>\n",
       "      <td>Modified</td>\n",
       "      <td>Good</td>\n",
       "    </tr>\n",
       "    <tr>\n",
       "      <th>1</th>\n",
       "      <td>2a272436-5132-4136-86fa-dcc88c88f482</td>\n",
       "      <td>660728</td>\n",
       "      <td>API</td>\n",
       "      <td>Organic Search</td>\n",
       "      <td>0</td>\n",
       "      <td>0</td>\n",
       "      <td>0</td>\n",
       "      <td>5.0</td>\n",
       "      <td>674</td>\n",
       "      <td>2.5</td>\n",
       "      <td>...</td>\n",
       "      <td>Not Specified</td>\n",
       "      <td>Not Specified</td>\n",
       "      <td>02.Medium</td>\n",
       "      <td>02.Medium</td>\n",
       "      <td>15.0</td>\n",
       "      <td>15.0</td>\n",
       "      <td>0</td>\n",
       "      <td>0</td>\n",
       "      <td>Email Opened</td>\n",
       "      <td>Good</td>\n",
       "    </tr>\n",
       "    <tr>\n",
       "      <th>2</th>\n",
       "      <td>8cc8c611-a219-4f35-ad23-fdfd2656bd8a</td>\n",
       "      <td>660727</td>\n",
       "      <td>Landing Page Submission</td>\n",
       "      <td>Direct Traffic</td>\n",
       "      <td>0</td>\n",
       "      <td>0</td>\n",
       "      <td>1</td>\n",
       "      <td>2.0</td>\n",
       "      <td>1532</td>\n",
       "      <td>2.0</td>\n",
       "      <td>...</td>\n",
       "      <td>Potential Lead</td>\n",
       "      <td>Jakarta</td>\n",
       "      <td>02.Medium</td>\n",
       "      <td>01.High</td>\n",
       "      <td>14.0</td>\n",
       "      <td>20.0</td>\n",
       "      <td>0</td>\n",
       "      <td>1</td>\n",
       "      <td>Email Opened</td>\n",
       "      <td>Good</td>\n",
       "    </tr>\n",
       "    <tr>\n",
       "      <th>3</th>\n",
       "      <td>0cc2df48-7cf4-4e39-9de9-19797f9b38cc</td>\n",
       "      <td>660719</td>\n",
       "      <td>Landing Page Submission</td>\n",
       "      <td>Direct Traffic</td>\n",
       "      <td>0</td>\n",
       "      <td>0</td>\n",
       "      <td>0</td>\n",
       "      <td>1.0</td>\n",
       "      <td>305</td>\n",
       "      <td>1.0</td>\n",
       "      <td>...</td>\n",
       "      <td>Not Specified</td>\n",
       "      <td>Jakarta</td>\n",
       "      <td>02.Medium</td>\n",
       "      <td>01.High</td>\n",
       "      <td>13.0</td>\n",
       "      <td>17.0</td>\n",
       "      <td>0</td>\n",
       "      <td>0</td>\n",
       "      <td>Modified</td>\n",
       "      <td>Bad</td>\n",
       "    </tr>\n",
       "    <tr>\n",
       "      <th>4</th>\n",
       "      <td>3256f628-e534-4826-9d63-4a8b88782852</td>\n",
       "      <td>660681</td>\n",
       "      <td>Landing Page Submission</td>\n",
       "      <td>Google</td>\n",
       "      <td>0</td>\n",
       "      <td>0</td>\n",
       "      <td>1</td>\n",
       "      <td>2.0</td>\n",
       "      <td>1428</td>\n",
       "      <td>1.0</td>\n",
       "      <td>...</td>\n",
       "      <td>Not Specified</td>\n",
       "      <td>Jakarta</td>\n",
       "      <td>02.Medium</td>\n",
       "      <td>01.High</td>\n",
       "      <td>15.0</td>\n",
       "      <td>18.0</td>\n",
       "      <td>0</td>\n",
       "      <td>0</td>\n",
       "      <td>Modified</td>\n",
       "      <td>Neutral</td>\n",
       "    </tr>\n",
       "  </tbody>\n",
       "</table>\n",
       "<p>5 rows × 37 columns</p>\n",
       "</div>"
      ],
      "text/plain": [
       "                            Prospect ID  Lead Number              Lead Origin  \\\n",
       "0  7927b2df-8bba-4d29-b9a2-b6e0beafe620       660737                      API   \n",
       "1  2a272436-5132-4136-86fa-dcc88c88f482       660728                      API   \n",
       "2  8cc8c611-a219-4f35-ad23-fdfd2656bd8a       660727  Landing Page Submission   \n",
       "3  0cc2df48-7cf4-4e39-9de9-19797f9b38cc       660719  Landing Page Submission   \n",
       "4  3256f628-e534-4826-9d63-4a8b88782852       660681  Landing Page Submission   \n",
       "\n",
       "      Lead Source  Do Not Email  Do Not Call  Converted  TotalVisits  \\\n",
       "0      Olark Chat             0            0          0          0.0   \n",
       "1  Organic Search             0            0          0          5.0   \n",
       "2  Direct Traffic             0            0          1          2.0   \n",
       "3  Direct Traffic             0            0          0          1.0   \n",
       "4          Google             0            0          1          2.0   \n",
       "\n",
       "   Total Time Spent on Website  Page Views Per Visit  ...    Lead Profile  \\\n",
       "0                            0                   0.0  ...   Not Specified   \n",
       "1                          674                   2.5  ...   Not Specified   \n",
       "2                         1532                   2.0  ...  Potential Lead   \n",
       "3                          305                   1.0  ...   Not Specified   \n",
       "4                         1428                   1.0  ...   Not Specified   \n",
       "\n",
       "            City Asymmetrique Activity Index Asymmetrique Profile Index  \\\n",
       "0  Not Specified                   02.Medium                  02.Medium   \n",
       "1  Not Specified                   02.Medium                  02.Medium   \n",
       "2        Jakarta                   02.Medium                    01.High   \n",
       "3        Jakarta                   02.Medium                    01.High   \n",
       "4        Jakarta                   02.Medium                    01.High   \n",
       "\n",
       "  Asymmetrique Activity Score  Asymmetrique Profile Score  \\\n",
       "0                        15.0                        15.0   \n",
       "1                        15.0                        15.0   \n",
       "2                        14.0                        20.0   \n",
       "3                        13.0                        17.0   \n",
       "4                        15.0                        18.0   \n",
       "\n",
       "   I agree to pay the amount through cheque  \\\n",
       "0                                         0   \n",
       "1                                         0   \n",
       "2                                         0   \n",
       "3                                         0   \n",
       "4                                         0   \n",
       "\n",
       "   A free copy of Mastering The Interview  Last Notable Activity  \\\n",
       "0                                       0               Modified   \n",
       "1                                       0           Email Opened   \n",
       "2                                       1           Email Opened   \n",
       "3                                       0               Modified   \n",
       "4                                       0               Modified   \n",
       "\n",
       "   Last Activity Category  \n",
       "0                    Good  \n",
       "1                    Good  \n",
       "2                    Good  \n",
       "3                     Bad  \n",
       "4                 Neutral  \n",
       "\n",
       "[5 rows x 37 columns]"
      ]
     },
     "execution_count": 2,
     "metadata": {},
     "output_type": "execute_result"
    }
   ],
   "source": [
    "file_path = os.path.join(\"data\", \"prepared_leads_scoring.csv\")\n",
    "df = pd.read_csv(file_path)\n",
    "\n",
    "df.head()"
   ]
  },
  {
   "cell_type": "code",
   "execution_count": 3,
   "metadata": {},
   "outputs": [
    {
     "data": {
      "text/plain": [
       "((7392, 123), (1848, 123))"
      ]
     },
     "execution_count": 3,
     "metadata": {},
     "output_type": "execute_result"
    }
   ],
   "source": [
    "# Identifikasi categorical dan numerical columns\n",
    "categorical_cols = df.select_dtypes(include=['object', 'category']).columns.tolist()\n",
    "numerical_cols = df.select_dtypes(include=['int64', 'float64']).columns.tolist()\n",
    "\n",
    "# Remove `Converted` kolom\n",
    "numerical_cols.remove('Converted')\n",
    "numerical_cols.remove('Lead Number')\n",
    "categorical_cols.remove('Prospect ID')\n",
    "\n",
    "# Pipeline untuk fitur numerik\n",
    "numeric_transformer = Pipeline(steps=[\n",
    "    ('imputer', SimpleImputer(strategy='constant', fill_value=0)),\n",
    "    ('scaler', StandardScaler())\n",
    "])\n",
    "\n",
    "# Pipeline untuk fitur kategorik\n",
    "categorical_transformer = Pipeline(steps=[\n",
    "    ('imputer', SimpleImputer(strategy='constant', fill_value='Not Specified')),\n",
    "    ('onehot', OneHotEncoder(handle_unknown='ignore'))\n",
    "])\n",
    "\n",
    "# menggabungkan transformer menjadi preprocessor\n",
    "preprocessor = ColumnTransformer(\n",
    "    transformers=[\n",
    "        ('num', numeric_transformer, numerical_cols),\n",
    "        ('cat', categorical_transformer, categorical_cols)\n",
    "    ])\n",
    "\n",
    "# Splitting the data into training and testing sets\n",
    "X = df.drop(columns=['Converted', 'Prospect ID', 'Lead Number'])\n",
    "y = df['Converted']\n",
    "X_train, X_test, y_train, y_test = train_test_split(X, y, test_size=0.2, random_state=42)\n",
    "\n",
    "# Applying the preprocessor to the training data\n",
    "X_train_preprocessed = preprocessor.fit_transform(X_train)\n",
    "X_test_preprocessed = preprocessor.transform(X_test)\n",
    "\n",
    "# Displaying the shape of the processed data\n",
    "X_train_preprocessed.shape, X_test_preprocessed.shape"
   ]
  },
  {
   "cell_type": "markdown",
   "metadata": {},
   "source": [
    "# 2. Modelling"
   ]
  },
  {
   "cell_type": "code",
   "execution_count": 4,
   "metadata": {},
   "outputs": [
    {
     "name": "stdout",
     "output_type": "stream",
     "text": [
      "Logistic Regression Classification Report:\n",
      "              precision    recall  f1-score   support\n",
      "\n",
      "           0       0.93      0.97      0.95      1107\n",
      "           1       0.95      0.90      0.92       741\n",
      "\n",
      "    accuracy                           0.94      1848\n",
      "   macro avg       0.94      0.93      0.94      1848\n",
      "weighted avg       0.94      0.94      0.94      1848\n",
      "\n"
     ]
    }
   ],
   "source": [
    "# Membuat model Logistic Regression dengan iterasi yang tinggi (untuk mencapai konvergensi model)\n",
    "logreg = LogisticRegression(max_iter=1000, solver='lbfgs')\n",
    "logreg.fit(X_train_preprocessed, y_train)\n",
    "\n",
    "# Memprediksi dan mengevaluasi model\n",
    "y_pred_logreg = logreg.predict(X_test_preprocessed)\n",
    "print(\"Logistic Regression Classification Report:\")\n",
    "print(classification_report(y_test, y_pred_logreg))"
   ]
  },
  {
   "cell_type": "code",
   "execution_count": 5,
   "metadata": {},
   "outputs": [
    {
     "name": "stdout",
     "output_type": "stream",
     "text": [
      "Decision Tree Classification Report:\n",
      "              precision    recall  f1-score   support\n",
      "\n",
      "           0       0.93      0.94      0.93      1107\n",
      "           1       0.90      0.90      0.90       741\n",
      "\n",
      "    accuracy                           0.92      1848\n",
      "   macro avg       0.92      0.92      0.92      1848\n",
      "weighted avg       0.92      0.92      0.92      1848\n",
      "\n"
     ]
    }
   ],
   "source": [
    "# Membuat model Decision Tree\n",
    "dtree = DecisionTreeClassifier(random_state=42)\n",
    "dtree.fit(X_train_preprocessed, y_train)\n",
    "\n",
    "# Memprediksi dan mengevaluasi model\n",
    "y_pred_dtree = dtree.predict(X_test_preprocessed)\n",
    "print(\"Decision Tree Classification Report:\")\n",
    "print(classification_report(y_test, y_pred_dtree))"
   ]
  },
  {
   "cell_type": "code",
   "execution_count": 6,
   "metadata": {},
   "outputs": [
    {
     "name": "stdout",
     "output_type": "stream",
     "text": [
      "Random Forest Classification Report:\n",
      "              precision    recall  f1-score   support\n",
      "\n",
      "           0       0.94      0.96      0.95      1107\n",
      "           1       0.94      0.91      0.93       741\n",
      "\n",
      "    accuracy                           0.94      1848\n",
      "   macro avg       0.94      0.94      0.94      1848\n",
      "weighted avg       0.94      0.94      0.94      1848\n",
      "\n"
     ]
    }
   ],
   "source": [
    "# Membuat model Random Forest\n",
    "rf = RandomForestClassifier(random_state=42)\n",
    "rf.fit(X_train_preprocessed, y_train)\n",
    "\n",
    "# Memprediksi dan mengevaluasi model\n",
    "y_pred_rf = rf.predict(X_test_preprocessed)\n",
    "print(\"Random Forest Classification Report:\")\n",
    "print(classification_report(y_test, y_pred_rf))"
   ]
  },
  {
   "cell_type": "code",
   "execution_count": 7,
   "metadata": {},
   "outputs": [
    {
     "name": "stdout",
     "output_type": "stream",
     "text": [
      "F1 Score for Logistic Regression\t: 0.92\n",
      "F1 Score for Decision Tree\t\t: 0.90\n",
      "F1 Score for Random Forest\t\t: 0.93\n"
     ]
    }
   ],
   "source": [
    "# Menghitung F1 Score untuk Logistic Regression\n",
    "f1_logreg = f1_score(y_test, y_pred_logreg)\n",
    "print(f\"F1 Score for Logistic Regression\\t: {f1_logreg:.2f}\")\n",
    "\n",
    "# Menghitung F1 Score untuk Decision Tree\n",
    "f1_dtree = f1_score(y_test, y_pred_dtree)\n",
    "print(f\"F1 Score for Decision Tree\\t\\t: {f1_dtree:.2f}\")\n",
    "\n",
    "# Menghitung F1 Score untuk Random Forest\n",
    "f1_rf = f1_score(y_test, y_pred_rf)\n",
    "print(f\"F1 Score for Random Forest\\t\\t: {f1_rf:.2f}\")"
   ]
  },
  {
   "cell_type": "markdown",
   "metadata": {},
   "source": [
    "# 3. Evaluation"
   ]
  },
  {
   "cell_type": "code",
   "execution_count": 8,
   "metadata": {},
   "outputs": [
    {
     "name": "stdout",
     "output_type": "stream",
     "text": [
      "Fitting 3 folds for each of 100 candidates, totalling 300 fits\n"
     ]
    },
    {
     "name": "stderr",
     "output_type": "stream",
     "text": [
      "c:\\Users\\ziyads059336\\Anaconda3\\lib\\site-packages\\sklearn\\model_selection\\_validation.py:425: FitFailedWarning: \n",
      "111 fits failed out of a total of 300.\n",
      "The score on these train-test partitions for these parameters will be set to nan.\n",
      "If these failures are not expected, you can try to debug them by setting error_score='raise'.\n",
      "\n",
      "Below are more details about the failures:\n",
      "--------------------------------------------------------------------------------\n",
      "90 fits failed with the following error:\n",
      "Traceback (most recent call last):\n",
      "  File \"c:\\Users\\ziyads059336\\Anaconda3\\lib\\site-packages\\sklearn\\model_selection\\_validation.py\", line 732, in _fit_and_score\n",
      "    estimator.fit(X_train, y_train, **fit_params)\n",
      "  File \"c:\\Users\\ziyads059336\\Anaconda3\\lib\\site-packages\\sklearn\\base.py\", line 1144, in wrapper\n",
      "    estimator._validate_params()\n",
      "  File \"c:\\Users\\ziyads059336\\Anaconda3\\lib\\site-packages\\sklearn\\base.py\", line 637, in _validate_params\n",
      "    validate_parameter_constraints(\n",
      "  File \"c:\\Users\\ziyads059336\\Anaconda3\\lib\\site-packages\\sklearn\\utils\\_param_validation.py\", line 95, in validate_parameter_constraints\n",
      "    raise InvalidParameterError(\n",
      "sklearn.utils._param_validation.InvalidParameterError: The 'max_features' parameter of RandomForestClassifier must be an int in the range [1, inf), a float in the range (0.0, 1.0], a str among {'sqrt', 'log2'} or None. Got 'auto' instead.\n",
      "\n",
      "--------------------------------------------------------------------------------\n",
      "21 fits failed with the following error:\n",
      "Traceback (most recent call last):\n",
      "  File \"c:\\Users\\ziyads059336\\Anaconda3\\lib\\site-packages\\sklearn\\model_selection\\_validation.py\", line 732, in _fit_and_score\n",
      "    estimator.fit(X_train, y_train, **fit_params)\n",
      "  File \"c:\\Users\\ziyads059336\\Anaconda3\\lib\\site-packages\\sklearn\\base.py\", line 1144, in wrapper\n",
      "    estimator._validate_params()\n",
      "  File \"c:\\Users\\ziyads059336\\Anaconda3\\lib\\site-packages\\sklearn\\base.py\", line 637, in _validate_params\n",
      "    validate_parameter_constraints(\n",
      "  File \"c:\\Users\\ziyads059336\\Anaconda3\\lib\\site-packages\\sklearn\\utils\\_param_validation.py\", line 95, in validate_parameter_constraints\n",
      "    raise InvalidParameterError(\n",
      "sklearn.utils._param_validation.InvalidParameterError: The 'max_features' parameter of RandomForestClassifier must be an int in the range [1, inf), a float in the range (0.0, 1.0], a str among {'log2', 'sqrt'} or None. Got 'auto' instead.\n",
      "\n",
      "  warnings.warn(some_fits_failed_message, FitFailedWarning)\n",
      "c:\\Users\\ziyads059336\\Anaconda3\\lib\\site-packages\\sklearn\\model_selection\\_search.py:976: UserWarning: One or more of the test scores are non-finite: [0.92532468        nan        nan 0.93682359        nan        nan\n",
      "        nan 0.933171          nan 0.94155844 0.94318182 0.91666667\n",
      "        nan 0.92451299        nan 0.90597944 0.91382576        nan\n",
      " 0.94047619 0.93614719 0.9273539         nan 0.92532468 0.94426407\n",
      "        nan 0.94426407 0.93614719        nan 0.92478355        nan\n",
      "        nan        nan        nan 0.92410714 0.91666667 0.92721861\n",
      " 0.94237013 0.93357684        nan        nan 0.93790584 0.94426407\n",
      " 0.94399351 0.94412879        nan 0.91680195        nan        nan\n",
      " 0.92397186        nan 0.92451299        nan 0.92437771 0.90246212\n",
      " 0.9411526  0.92275433 0.94615801 0.93506494        nan 0.94304654\n",
      "        nan 0.92478355 0.92518939 0.94088203 0.92397186        nan\n",
      " 0.93100649        nan        nan 0.91301407 0.93695887        nan\n",
      " 0.93262987 0.92451299 0.93479437        nan        nan 0.94020563\n",
      " 0.92437771 0.94196429        nan        nan 0.91653139 0.92451299\n",
      " 0.93181818 0.93046537 0.91396104 0.91409632 0.9316829         nan\n",
      "        nan 0.94372294 0.94264069 0.92086039 0.93547078 0.92194264\n",
      " 0.94345238        nan 0.93005952        nan]\n",
      "  warnings.warn(\n"
     ]
    },
    {
     "name": "stdout",
     "output_type": "stream",
     "text": [
      "Best Parameters: {'n_estimators': 1000, 'min_samples_split': 7, 'min_samples_leaf': 1, 'max_features': 'sqrt', 'max_depth': 70, 'bootstrap': True}\n",
      "Random Forest Classification Report with Best Parameters:\n",
      "              precision    recall  f1-score   support\n",
      "\n",
      "           0       0.94      0.97      0.95      1107\n",
      "           1       0.95      0.91      0.93       741\n",
      "\n",
      "    accuracy                           0.94      1848\n",
      "   macro avg       0.94      0.94      0.94      1848\n",
      "weighted avg       0.94      0.94      0.94      1848\n",
      "\n"
     ]
    }
   ],
   "source": [
    "# Membuat model RandomForest\n",
    "rf = RandomForestClassifier(random_state=42)\n",
    "\n",
    "# Menentukan grid hyperparameter\n",
    "param_distributions = {\n",
    "    'n_estimators': np.arange(100, 1001, 100),\n",
    "    'max_features': ['auto', 'sqrt', 'log2'],\n",
    "    'max_depth': np.arange(10, 101, 10),\n",
    "    'min_samples_split': np.arange(2, 11, 1),\n",
    "    'min_samples_leaf': np.arange(1, 11, 1),\n",
    "    'bootstrap': [True, False]\n",
    "}\n",
    "\n",
    "# Mengatur RandomizedSearchCV\n",
    "rf_random_search = RandomizedSearchCV(estimator=rf, param_distributions=param_distributions, \n",
    "                                      n_iter=100, cv=3, verbose=2, random_state=42, n_jobs=-1)\n",
    "\n",
    "# Melatih RandomizedSearchCV pada data latih\n",
    "rf_random_search.fit(X_train_preprocessed, y_train)\n",
    "\n",
    "# Menemukan hyperparameter terbaik\n",
    "best_params = rf_random_search.best_params_\n",
    "print(f\"Best Parameters: {best_params}\")\n",
    "\n",
    "# Mengevaluasi model dengan hyperparameter terbaik\n",
    "best_rf_model = rf_random_search.best_estimator_\n",
    "y_pred_rf_best = best_rf_model.predict(X_test_preprocessed)\n",
    "print(\"Random Forest Classification Report with Best Parameters:\")\n",
    "print(classification_report(y_test, y_pred_rf_best))"
   ]
  },
  {
   "cell_type": "code",
   "execution_count": 9,
   "metadata": {},
   "outputs": [
    {
     "name": "stdout",
     "output_type": "stream",
     "text": [
      "Skor F1 dengan Parameter Terbaik: 0.93\n"
     ]
    }
   ],
   "source": [
    "# Mengambil parameter terbaik\n",
    "best_params = rf_random_search.best_params_\n",
    "\n",
    "# Membuat model RandomForest baru dengan parameter ini\n",
    "best_rf_model = RandomForestClassifier(**best_params, random_state=42)\n",
    "\n",
    "# Melatih model pada data latihan\n",
    "best_rf_model.fit(X_train_preprocessed, y_train)\n",
    "\n",
    "# Melakukan prediksi pada data uji\n",
    "y_pred_best_rf = best_rf_model.predict(X_test_preprocessed)\n",
    "\n",
    "# Menghitung skor F1\n",
    "f1_score_best_rf = f1_score(y_test, y_pred_best_rf)\n",
    "print(f\"Skor F1 dengan Parameter Terbaik: {f1_score_best_rf:.2f}\")"
   ]
  },
  {
   "cell_type": "code",
   "execution_count": 10,
   "metadata": {},
   "outputs": [],
   "source": [
    "def get_feature_names(column_transformer):\n",
    "    \"\"\"Get feature names from a ColumnTransformer\"\"\"\n",
    "    output_features = []\n",
    "\n",
    "    for name, pipe, features in column_transformer.transformers_:\n",
    "        if name == 'remainder':\n",
    "            continue\n",
    "        if hasattr(pipe, 'get_feature_names_out'):\n",
    "            # If the pipeline step has 'get_feature_names_out' method\n",
    "            feature_names = pipe.get_feature_names_out(features)\n",
    "        else:\n",
    "            # Otherwise, use the original feature names\n",
    "            feature_names = features\n",
    "        output_features.extend(feature_names)\n",
    "\n",
    "    return output_features"
   ]
  },
  {
   "cell_type": "code",
   "execution_count": 11,
   "metadata": {},
   "outputs": [],
   "source": [
    "# Inisialisasi daftar untuk menyimpan nama fitur\n",
    "feature_names = []\n",
    "\n",
    "# Loop melalui setiap transformer dalam ColumnTransformer\n",
    "for transformer in preprocessor.transformers_: # karena kita tidak memiliki 'remainder'\n",
    "    transformer_name, transformer_instance, column_names = transformer\n",
    "\n",
    "    # Jika transformer memiliki metode 'get_feature_names_out', gunakan itu\n",
    "    if hasattr(transformer_instance, 'named_steps'):\n",
    "        for k, v in transformer_instance.named_steps.items():\n",
    "            if k in ['scaler', 'onehot']:\n",
    "                names = transformer_instance.named_steps[k].get_feature_names_out(column_names)\n",
    "        feature_names.extend(names)\n",
    "    else:\n",
    "        # Jika tidak, hanya gunakan nama kolom asli\n",
    "        feature_names.extend(column_names)\n",
    "\n",
    "# Sekarang feature_names harus berisi nama fitur yang benar setelah preprocessing"
   ]
  },
  {
   "cell_type": "code",
   "execution_count": 12,
   "metadata": {},
   "outputs": [
    {
     "data": {
      "image/png": "[encoded data removed]",
      "text/plain": [
       "<Figure size 1000x600 with 1 Axes>"
      ]
     },
     "metadata": {},
     "output_type": "display_data"
    }
   ],
   "source": [
    "# Mendapatkan feature importances dari model RandomForest\n",
    "importances = best_rf_model.feature_importances_\n",
    "\n",
    "# Membuat pasangan fitur dan pentingnya, kemudian urutkan\n",
    "feature_importances = sorted(zip(feature_names, importances), key=lambda x: x[1], reverse=True)\n",
    "\n",
    "# Mengambil 10 fitur teratas\n",
    "top_10_feature_importances = feature_importances[:10]\n",
    "\n",
    "# Membuat visualisasi\n",
    "plt.figure(figsize=(10, 6))\n",
    "plt.title(\"Top 10 Important Features in the RandomForest Model\")\n",
    "plt.bar(*zip(*top_10_feature_importances))\n",
    "plt.xticks(rotation=90)\n",
    "plt.ylabel(\"Importance\")\n",
    "plt.xlabel(\"Feature\")\n",
    "plt.show()"
   ]
  },
  {
   "cell_type": "code",
   "execution_count": 13,
   "metadata": {},
   "outputs": [
    {
     "name": "stdout",
     "output_type": "stream",
     "text": [
      "Tags_Will revert after reading the email\n",
      "Total Time Spent on Website\n",
      "Last Notable Activity_SMS Sent\n",
      "Tags_Ringing\n",
      "Lead Profile_Potential Lead\n",
      "Tags_Not Specified\n",
      "Lead Quality_Might be\n",
      "Tags_Closed by Horizzon\n",
      "Tags_Lost to EINS\n",
      "Lead Quality_Not Specified\n"
     ]
    }
   ],
   "source": [
    "for a, b in top_10_feature_importances:\n",
    "    print(a)"
   ]
  },
  {
   "cell_type": "code",
   "execution_count": 14,
   "metadata": {},
   "outputs": [
    {
     "data": {
      "text/plain": [
       "[('Tags_Will revert after reading the email', 0.18141346991610285),\n",
       " ('Total Time Spent on Website', 0.09972270012565215),\n",
       " ('Last Notable Activity_SMS Sent', 0.052620697512145556),\n",
       " ('Tags_Ringing', 0.05067578393910034),\n",
       " ('Lead Profile_Potential Lead', 0.0344642234175098),\n",
       " ('Tags_Not Specified', 0.030711800793458685),\n",
       " ('Lead Quality_Might be', 0.028148935633235284),\n",
       " ('Tags_Closed by Horizzon', 0.027857421493026346),\n",
       " ('Tags_Lost to EINS', 0.026382963310371627),\n",
       " ('Lead Quality_Not Specified', 0.026324876570961272)]"
      ]
     },
     "execution_count": 14,
     "metadata": {},
     "output_type": "execute_result"
    }
   ],
   "source": [
    "top_10_feature_importances"
   ]
  },
  {
   "cell_type": "markdown",
   "metadata": {},
   "source": [
    "# Save Model"
   ]
  },
  {
   "cell_type": "code",
   "execution_count": 15,
   "metadata": {},
   "outputs": [
    {
     "name": "stdout",
     "output_type": "stream",
     "text": [
      "folder `model` already exists!\n"
     ]
    },
    {
     "name": "stdout",
     "output_type": "stream",
     "text": [
      "berhasil menyimpan model terbaik dan preprocessornya\n"
     ]
    }
   ],
   "source": [
    "if not os.path.exists('model'):\n",
    "    os.mkdir('model')\n",
    "else:\n",
    "    print('folder `model` already exists!')\n",
    "\n",
    "# save the model\n",
    "filename = os.path.join('model', 'best_rf_model.sav')\n",
    "pickle.dump(best_rf_model, open(filename, 'wb'))\n",
    "\n",
    "# save the preprocessor\n",
    "filename = os.path.join('model', 'preprocessor.sav')\n",
    "pickle.dump(preprocessor, open(filename, 'wb'))\n",
    "\n",
    "print('berhasil menyimpan model terbaik dan preprocessornya')"
   ]
  }
 ],
 "metadata": {
  "kernelspec": {
   "display_name": "base",
   "language": "python",
   "name": "python3"
  },
  "language_info": {
   "codemirror_mode": {
    "name": "ipython",
    "version": 3
   },
   "file_extension": ".py",
   "mimetype": "text/x-python",
   "name": "python",
   "nbconvert_exporter": "python",
   "pygments_lexer": "ipython3",
   "version": "3.9.13"
  }
 },
 "nbformat": 4,
 "nbformat_minor": 2
}
